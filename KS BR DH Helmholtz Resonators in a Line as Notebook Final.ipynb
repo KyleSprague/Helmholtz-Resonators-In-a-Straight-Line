{
 "cells": [
  {
   "cell_type": "markdown",
   "id": "ce4af0a7-01f0-45c1-adf2-c16d7519f71f",
   "metadata": {},
   "source": [
    "# Calculating Transmission Through a Straight Pipe With 5 In-line Helmholtz Resonators \n",
    "\n",
    "This program calulates and graphs transmission associated with a single wavelength passed through a single Helmholtz resonator. It contains\n",
    "the transmittance function, the details of which are provided below. The parameters are based on a COMSOL simulation; original parameters are pulled from \"Extraordinary acoustic transmission mediated by Helmholtz resonators\" by V. Koju et al., AIP Adv., 4, 077132 (2014).\n",
    "\n",
    "Authors: Kyle Sprague, Bill Robertson, David Heson\n",
    "\n",
    "Date Written: 15 June 2022"
   ]
  },
  {
   "cell_type": "code",
   "execution_count": null,
   "id": "cafcf095-dd02-447b-8766-8a182d2fa373",
   "metadata": {},
   "outputs": [],
   "source": [
    "\n",
    "import numpy as np\n",
    "import matplotlib.pyplot as plt\n",
    "import scipy\n",
    "import scipy.constants \n"
   ]
  },
  {
   "cell_type": "markdown",
   "id": "40dbff0f-71ac-4c24-803c-f5c4d79e1e6e",
   "metadata": {},
   "source": [
    "## Relevant equations for the Transmission Function \n",
    "\n",
    "To calculate transmittance, we need to use area and length lists; the area list corresponds to the area of the necks and cavities while the length list corresponds to the lengths of these sections. Additionally, we make use of equations 2 and 8 from T. Gu et al., J. Phys. D: Appl. Phys., 54, 175301 (2021). In the case of Gu et. al., they used the matrix method to demonstrate that AIT could be achieved for the case of a Y-split waveguide where each of the two HRs are tuned to a resonance frequency and also generate a Fabry-Perot Resonance frequency as a consequence of their separation distance, which is 1/2 of a wavelength. This then leads to AIT. The equation that they arrived at to describe each of the grafted resonators is \n",
    "\n",
    "\\begin{equation}  \n",
    "MT = \n",
    "\\begin{bmatrix} \\label{eq:1}\n",
    "cos(kL) & j(c/S)sin(kL)\\\\\n",
    "j(S/c)sin(kL) & cos(kL) \n",
    "\\end{bmatrix} \n",
    "\\end{equation}. \n",
    "\n",
    "In this program, one of these matrices is generated for each section of the pipe accounted for in the length and area lists. The respective sections are multiplied together, just as T. Gu et al. did in their paper. However, unlike in Gu et. al, we do not need to consider the Mi matrix (equation 7) because we are dealing with in line matrices. After calculating the matrix product for one particular frequency and all five subsections, we take the pole parameters of this matrix and plug them into \n",
    "\n",
    "\\begin{equation} \\label{eq:2}\n",
    "T_{HR_{region}} = \\dfrac{2}{|{A+B(S/c)+C(c/S)+D}|}\n",
    "\\end{equation}. \n",
    "\n"
   ]
  },
  {
   "cell_type": "code",
   "execution_count": 50,
   "id": "a1f6674c-3b22-4c95-bf46-a08f69aacf3f",
   "metadata": {},
   "outputs": [],
   "source": [
    "def transmittance(frequency_list, s_list, l_list, S_outside): \n",
    "\n",
    "    ''' \n",
    "        The transmittance function takes a list of frequencies, the surface areas associated with the HR and waveguides as a list, the\n",
    "        length of each component of the system as a list, and the surface area of the waveguide as a floating point. It runs\n",
    "        through two constituent for loops to calculate a matrix associated with each section (T_matrix), then multiplies each matrix by\n",
    "        the matrix associated with the previous for a new section and the same frequency. After this, the values in the M matrix are pulled\n",
    "        out and stored in a transmittance list.\n",
    "\n",
    "        list -- frequency_list: the list of frequency values surrounding the resonant frequency\n",
    "        list -- s_list: a list of surface areas, each index representing a different section of the system\n",
    "        list -- l_list: a list of lengths, each index representing a different section of the system\n",
    "        int -- the surface area for the waveguide\n",
    "\n",
    "        returns: the absolute value of transmittance for each of the given frequencies as a list\n",
    "\n",
    "    ''' \n",
    "\n",
    "    transmittance_list = np.zeros(len(frequency_list))\n",
    "\n",
    "    c = 342\n",
    "\n",
    "    for index in range(0,len(frequency_list)): \n",
    "\n",
    "        M = [[1,0],[0,1]]\n",
    "\n",
    "        current_freq = frequency_list[index]\n",
    "        k = (2*np.pi*current_freq)/c #in meters\n",
    "\n",
    "        for r in range(0, len(s_list)): \n",
    "\n",
    "            S = s_list[r] \n",
    "            L = l_list[r]\n",
    "            T_matrix = np.array([\n",
    "                [np.cos(k*L), 1j*((343)/S)*np.sin(k*L)],\n",
    "                [1j*(S/c)*np.sin(k*L), np.cos(k*L)]\n",
    "            ]) #this equation comes from section 2.2 of Gu et. al \"Induced transparency based \n",
    "            #subwavelength acoustic demultiplexers\"; it is equation 8\n",
    "\n",
    "            M = M @ T_matrix \n",
    "\n",
    "        A,B,C,D = M[0,0], M[0,1], M[1,0], M[1,1]\n",
    "        # print(A,D)\n",
    "\n",
    "        transmittance = 2/(abs(A + B*(S_outside/c) + C*(c/S_outside) + D))\n",
    "        # print(transmittance) #this equation comes from section 2.2 of Gu et. al \"Induced transparency based \n",
    "            #subwavelength acoustic demultiplexers\"; it is equation 2\n",
    "\n",
    "        transmittance_list[index] = transmittance\n",
    "\n",
    "    transmittance_list_abs = (np.abs(transmittance_list)**2)\n",
    "\n",
    "    return transmittance_list_abs \n",
    "\n"
   ]
  },
  {
   "cell_type": "code",
   "execution_count": 51,
   "id": "0c0a7d6f-e891-4a7f-884b-e01714e34010",
   "metadata": {},
   "outputs": [
    {
     "name": "stdout",
     "output_type": "stream",
     "text": [
      "[1.0, 0.022, 0.013462, 0.022, 1.0]\n",
      "[0.00817128249198705, 0.0003671142652871542, 0.00817128249198705, 0.0003671142652871542, 0.00817128249198705]\n"
     ]
    },
    {
     "data": {
      "image/png": "[encoded data removed]",
      "text/plain": [
       "<Figure size 432x288 with 1 Axes>"
      ]
     },
     "metadata": {
      "needs_background": "light"
     },
     "output_type": "display_data"
    }
   ],
   "source": [
    "def main(): \n",
    "    \n",
    "    r_helm_opening = 0.022 #orig: 0.0079 #units: m \n",
    "\n",
    "\n",
    "    L_helm = 0.013462 #orig: (1.57*10**-4)/(np.pi*r_helm_opening**2)#units: m from koju et. al\n",
    "    S_outside = (0.051**2)*np.pi #orig: 0.0079 #units: m^2 from koju et. al. \n",
    "    S_neck = (0.01081**2)*np.pi #orig 2*10**-4 #units: m^2 from Koju et. al.\n",
    "\n",
    "    l_list = [0.013462,0.022,0.013462,0.022,0.013462] #orig [0.2, 0.05,0.02, 0.05,0.2]; these original parameters come from Koju et al.\n",
    "    print(l_list)\n",
    "    s_list = [S_outside, S_neck, S_outside, S_neck, S_outside] #orig [0.0079, 2.00*10**-4, 0.0079, 2.00*10**-4, 0.0079] #parameters are from Koju et. al EAT mediated by Helmholtz res\"\n",
    "    print(s_list)\n",
    "\n",
    " \n",
    "    frequency_list = np.arange(50,1000,5)\n",
    "\n",
    "    M = transmittance(frequency_list, s_list, l_list, S_outside) \n",
    "\n",
    "    plt.plot(frequency_list, M)\n",
    "    plt.show()\n",
    "\n",
    "main()"
   ]
  },
  {
   "cell_type": "code",
   "execution_count": null,
   "id": "1d8f74f3-3e5b-4f28-95c6-e672b15bbb48",
   "metadata": {},
   "outputs": [],
   "source": []
  },
  {
   "cell_type": "code",
   "execution_count": null,
   "id": "6413bc4f-9913-43b7-8cda-7ef73ec13cc6",
   "metadata": {},
   "outputs": [],
   "source": []
  },
  {
   "cell_type": "code",
   "execution_count": null,
   "id": "46241809-8279-469f-bcd9-16caa82b1cac",
   "metadata": {},
   "outputs": [],
   "source": []
  },
  {
   "cell_type": "code",
   "execution_count": null,
   "id": "3ab9cdeb-73f0-4518-9d28-b76d0fcfaefa",
   "metadata": {},
   "outputs": [],
   "source": []
  },
  {
   "cell_type": "code",
   "execution_count": null,
   "id": "c07eef55-3c43-4664-9c35-1e0bb4652fa0",
   "metadata": {},
   "outputs": [],
   "source": []
  },
  {
   "cell_type": "code",
   "execution_count": null,
   "id": "6d7e4a85-bb94-4409-98b8-42a0dcb43c71",
   "metadata": {},
   "outputs": [],
   "source": []
  },
  {
   "cell_type": "code",
   "execution_count": null,
   "id": "454f151c-e941-4e86-a57c-789995be1b9e",
   "metadata": {},
   "outputs": [],
   "source": []
  },
  {
   "cell_type": "code",
   "execution_count": null,
   "id": "37f88f3d-23f8-40ea-ab59-419d5e3b21a4",
   "metadata": {},
   "outputs": [],
   "source": []
  },
  {
   "cell_type": "code",
   "execution_count": null,
   "id": "8f9dd0ee-4c9d-4468-8fde-6938a6669c7b",
   "metadata": {},
   "outputs": [],
   "source": []
  },
  {
   "cell_type": "code",
   "execution_count": null,
   "id": "72ffd8f7-03d4-4a99-8ab1-1948e36c2e57",
   "metadata": {},
   "outputs": [],
   "source": []
  },
  {
   "cell_type": "code",
   "execution_count": null,
   "id": "77a7e6ce-540d-41d3-acb1-16792ee521c2",
   "metadata": {},
   "outputs": [],
   "source": []
  },
  {
   "cell_type": "code",
   "execution_count": null,
   "id": "2475c92e-7084-42b6-b323-b068b48d2c85",
   "metadata": {},
   "outputs": [],
   "source": []
  },
  {
   "cell_type": "code",
   "execution_count": null,
   "id": "ff5251e0-dcdb-45cc-ad77-d0a39aaf074c",
   "metadata": {},
   "outputs": [],
   "source": []
  }
 ],
 "metadata": {
  "kernelspec": {
   "display_name": "Python 3 (ipykernel)",
   "language": "python",
   "name": "python3"
  },
  "language_info": {
   "codemirror_mode": {
    "name": "ipython",
    "version": 3
   },
   "file_extension": ".py",
   "mimetype": "text/x-python",
   "name": "python",
   "nbconvert_exporter": "python",
   "pygments_lexer": "ipython3",
   "version": "3.9.10"
  }
 },
 "nbformat": 4,
 "nbformat_minor": 5
}
